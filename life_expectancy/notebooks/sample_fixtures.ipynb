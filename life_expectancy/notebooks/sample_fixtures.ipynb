{
 "cells": [
  {
   "cell_type": "code",
   "execution_count": 1,
   "metadata": {},
   "outputs": [],
   "source": [
    "import pandas as pd"
   ]
  },
  {
   "cell_type": "code",
   "execution_count": 2,
   "metadata": {},
   "outputs": [],
   "source": [
    "df = pd.read_csv(\"../data/eu_life_expectancy_raw.tsv\", sep='\\t')"
   ]
  },
  {
   "cell_type": "code",
   "execution_count": 4,
   "metadata": {},
   "outputs": [
    {
     "data": {
      "text/plain": [
       "(14448, 63)"
      ]
     },
     "execution_count": 4,
     "metadata": {},
     "output_type": "execute_result"
    }
   ],
   "source": [
    "df.shape"
   ]
  },
  {
   "cell_type": "code",
   "execution_count": 5,
   "metadata": {},
   "outputs": [],
   "source": [
    "sample = df[0:1000].copy()"
   ]
  },
  {
   "cell_type": "code",
   "execution_count": 6,
   "metadata": {},
   "outputs": [
    {
     "data": {
      "text/plain": [
       "(1000, 63)"
      ]
     },
     "execution_count": 6,
     "metadata": {},
     "output_type": "execute_result"
    }
   ],
   "source": [
    "sample.shape"
   ]
  },
  {
   "cell_type": "code",
   "execution_count": 7,
   "metadata": {},
   "outputs": [],
   "source": [
    "sample.to_csv('../tests/fixtures/eu_life_expectancy_sample_raw.tsv', sep='\\t', index=False)"
   ]
  },
  {
   "cell_type": "code",
   "execution_count": 8,
   "metadata": {},
   "outputs": [],
   "source": [
    "def clean_sample_data():\n",
    "    df = pd.read_csv('../tests/fixtures/eu_life_expectancy_sample_raw.tsv', sep='\\t')\n",
    "    df[['unit','sex','age','region']] = df['unit,sex,age,geo\\\\time'].str.split(',', expand=True)\n",
    "    df.drop(columns='unit,sex,age,geo\\\\time', inplace=True)\n",
    "    long_df = pd.melt(df, id_vars=['unit','sex','age','region'], var_name='year', value_name='value')\n",
    "    long_df['year'] = long_df.year.str.strip().astype(int)\n",
    "    long_df['value'] = long_df.value.str.split(expand=True)[0]\n",
    "    long_df['value'] = pd.to_numeric(long_df.value, errors='coerce')\n",
    "    long_df.dropna(inplace=True)\n",
    "    long_df.reset_index(inplace=True, drop=True)\n",
    "    long_df.to_csv('../tests/fixtures/eu_life_expectancy_sample_expected.csv', index=False)\n",
    "    print('file saved in fixtures folder')"
   ]
  },
  {
   "cell_type": "code",
   "execution_count": 9,
   "metadata": {},
   "outputs": [
    {
     "name": "stdout",
     "output_type": "stream",
     "text": [
      "file saved in fixtures folder\n"
     ]
    }
   ],
   "source": [
    "clean_sample_data()"
   ]
  },
  {
   "cell_type": "code",
   "execution_count": null,
   "metadata": {},
   "outputs": [],
   "source": []
  }
 ],
 "metadata": {
  "kernelspec": {
   "display_name": "Python 3",
   "language": "python",
   "name": "python3"
  },
  "language_info": {
   "codemirror_mode": {
    "name": "ipython",
    "version": 3
   },
   "file_extension": ".py",
   "mimetype": "text/x-python",
   "name": "python",
   "nbconvert_exporter": "python",
   "pygments_lexer": "ipython3",
   "version": "3.7.7"
  }
 },
 "nbformat": 4,
 "nbformat_minor": 4
}
